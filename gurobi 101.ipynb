{
 "cells": [
  {
   "cell_type": "markdown",
   "metadata": {
    "slideshow": {
     "slide_type": "-"
    }
   },
   "source": [
    "![Image](https://www.tscp.com/wp-content/uploads/GUROBI-biglogo-714x420.png)"
   ]
  },
  {
   "cell_type": "markdown",
   "metadata": {
    "slideshow": {
     "slide_type": "-"
    }
   },
   "source": [
    "The Gurobi Optimizer was designed from the ground up to be the fastest, most powerful solver available for your LP, QP, QCP, and MIP (MILP, MIQP, and MIQCP) problems."
   ]
  },
  {
   "cell_type": "markdown",
   "metadata": {},
   "source": [
    "Getting and setting up Anaconda and Gurobi <br>\n",
    "<ol>\n",
    "  <li>download here http://www.gurobi.com/registration/download-reg  (register with ur ugm email address).</li>\n",
    "  <li>how to install gurobi into ur anaconda http://www.gurobi.com/downloads/get-anaconda .</li>\n",
    "</ol>"
   ]
  },
  {
   "cell_type": "markdown",
   "metadata": {},
   "source": [
    "  "
   ]
  },
  {
   "cell_type": "markdown",
   "metadata": {},
   "source": [
    "## Creating Model in gurobipy\n",
    "Gurobi Python applications should always start with this line:\n",
    "```python\n",
    "from gurobipy import *\n",
    "```\n",
    "The first step in our example is to create a model. A Gurobi model holds a single optimization\n",
    "problem. It consists of a set of variables, a set of constraints, and the associated attributes (variable\n",
    "bounds, objective coefficients, variable integrality types, constraint senses, constraint right-hand\n",
    "side values, etc.). We start this example with an empty model object:\n",
    "```python\n",
    "m = Model(\"mip1\")\n",
    "```\n",
    "### Adding Variable\n",
    "Adding variables to the model\n",
    "The next step in our example is to add variables to the model.\n",
    "```python\n",
    "x = m.addVar(vtype=GRB.BINARY, name=\"x\")\n",
    "y = m.addVar(vtype=GRB.BINARY, name=\"y\")\n",
    "z = m.addVar(vtype=GRB.BINARY, name=\"z\")\n",
    "```\n",
    "Variables are added through the\n",
    "addVar()\n",
    "method on a model object (or\n",
    "addVars()\n",
    "if you wish\n",
    "to add more than one at a time). A variable is always associated with a particular model.\n",
    "Python allows you to pass arguments by position or by name. We’ve passed them by name here.\n",
    "Each variable gets a type (binary), and a name. We use the default values for the other arguments.\n",
    "\n",
    " Model.addVar()\n",
    "addVar ( lb=0.0, ub=GRB.INFINITY, obj=0.0, vtype=GRB.CONTINUOUS, name=\"\", column=None )\n",
    "\n",
    "Add a decision variable to a model.\n",
    "\n",
    "Arguments:\n",
    "\n",
    "lb (optional): Lower bound for new variable.\n",
    "\n",
    "ub (optional): Upper bound for new variable.\n",
    "\n",
    "obj (optional): Objective coefficient for new variable.\n",
    "\n",
    "vtype (optional): Variable type for new variable (GRB.CONTINUOUS, GRB.BINARY, GRB.INTEGER, GRB.SEMICONT, or GRB.SEMIINT).\n",
    "\n",
    "name (optional): Name for new variable.\n",
    "\n",
    "### Setting the Objective\n",
    "Model.setObjective()\n",
    "setObjective ( expr, sense=None )\n",
    "\n",
    "Set the model objective equal to a linear or quadratic expression. (For multi-objective optimization see setObjectiveN.)\n",
    "Note that you can also modify a linear model objective using the Obj variable attribute. If you wish to mix and match these two approaches, please note that this method will replace the existing objective.\n",
    "```python\n",
    "model.setObjective(x + y, GRB.MAXIMIZE)\n",
    "model.setObjective(x + 2*y, GRB.MINIMIZE)\n",
    "```\n",
    "\n",
    "### Adding Constraint\n",
    "The next step in the example is to add the linear constraints. The first constraint is added here:\n",
    "```python\n",
    "# Add constraint: x + 2 y + 3 z <= 4\n",
    "m.addConstr(x + 2 * y + 3 * z <= 4, \"c0\")\n",
    "```\n",
    "As with variables, constraints are always associated with a specific model. They are created using\n",
    "the\n",
    "addConstr()\n",
    "method on the model object.\n",
    "We again use overloaded arithmetic operators to build linear expressions. The comparison operators\n",
    "are also overloaded to make it easier to build constraints.\n",
    "The second argument to\n",
    "addConstr\n",
    "gives the (optional) constraint name.\n",
    "Again, this simple example builds the linear expression for the constraint in a single statement using\n",
    "an explicit list of terms. More complex programs will typically build the expression incrementally.\n",
    "\n"
   ]
  },
  {
   "cell_type": "markdown",
   "metadata": {},
   "source": [
    "## Simple LP Example\n",
    "This section will work through a simple Python example in order to illustrate the use of the Gurobi\n",
    "Python interface. The example builds a model, optimizes it, and outputs the optimal objective\n",
    "value.\n",
    "\\begin{align}\n",
    "\\max \\quad  &x+y+z\\\\\n",
    "\\text{subject to} \\\\\n",
    "&x + 2 y + 3 z \\leq 4\\\\\n",
    "&x + y \\geq 1\\\\\n",
    "&x,y,z \\in \\mathbb{Z}\n",
    "\\end{align}"
   ]
  },
  {
   "cell_type": "code",
   "execution_count": 20,
   "metadata": {
    "collapsed": false,
    "scrolled": false,
    "slideshow": {
     "slide_type": "-"
    }
   },
   "outputs": [
    {
     "name": "stdout",
     "output_type": "stream",
     "text": [
      "Optimize a model with 2 rows, 3 columns and 5 nonzeros\n",
      "Variable types: 0 continuous, 3 integer (0 binary)\n",
      "Coefficient statistics:\n",
      "  Matrix range     [1e+00, 3e+00]\n",
      "  Objective range  [1e+00, 1e+00]\n",
      "  Bounds range     [0e+00, 0e+00]\n",
      "  RHS range        [1e+00, 4e+00]\n",
      "Presolve removed 2 rows and 3 columns\n",
      "Presolve time: 0.00s\n",
      "Presolve: All rows and columns removed\n",
      "\n",
      "Explored 0 nodes (0 simplex iterations) in 0.06 seconds\n",
      "Thread count was 1 (of 4 available processors)\n",
      "\n",
      "Solution count 1: 4 \n",
      "\n",
      "Optimal solution found (tolerance 1.00e-04)\n",
      "Best objective 4.000000000000e+00, best bound 4.000000000000e+00, gap 0.0000%\n",
      "x 4\n",
      "y -0\n",
      "z -0\n",
      "Obj: 4\n"
     ]
    }
   ],
   "source": [
    "from gurobipy import *\n",
    "\n",
    "try:\n",
    "\n",
    "    # Create a new model\n",
    "    m = Model(\"mip1\")\n",
    "\n",
    "    # Create variables\n",
    "    x = m.addVar(lb = 0,vtype=GRB.INTEGER, name=\"x\") \n",
    "    y = m.addVar(lb = 0,vtype=GRB.INTEGER, name=\"y\")\n",
    "    z = m.addVar(lb = 0,vtype=GRB.INTEGER, name=\"z\")\n",
    "\n",
    "    # Set objective\n",
    "    m.setObjective(x + y +  z, GRB.MAXIMIZE) \n",
    "\n",
    "    # Add constraint: x + 2 y + 3 z <= 4\n",
    "    m.addConstr(x + 2 * y + 3 * z <= 4, \"c0\")\n",
    "\n",
    "    # Add constraint: x + y >= 1\n",
    "    m.addConstr(x + y >= 1, \"c1\")\n",
    "\n",
    "    m.optimize()\n",
    "\n",
    "    for v in m.getVars():\n",
    "        print('%s %g' % (v.varName, v.x))\n",
    "\n",
    "    print('Obj: %g' % m.objVal)\n",
    "\n",
    "except GurobiError as e:\n",
    "    print('Error code ' + str(e.errno) + \": \" + str(e))\n",
    "\n",
    "except AttributeError:\n",
    "    print('Encountered an attribute error')"
   ]
  },
  {
   "cell_type": "markdown",
   "metadata": {},
   "source": [
    "## Stochastic LP Example\n",
    "<img style=\"float: left;\" src=\"stokastik.png\">"
   ]
  },
  {
   "cell_type": "markdown",
   "metadata": {},
   "source": [
    "_Stochastic Linear Programming : Models, Theory and Computation._<br>\n",
    "by Kall P. and Mayer J."
   ]
  },
  {
   "cell_type": "code",
   "execution_count": 11,
   "metadata": {
    "collapsed": false
   },
   "outputs": [
    {
     "name": "stdout",
     "output_type": "stream",
     "text": [
      "Optimize a model with 2 rows, 2 columns and 4 nonzeros\n",
      "Variable types: 0 continuous, 2 integer (0 binary)\n",
      "Coefficient statistics:\n",
      "  Matrix range     [1e+00, 2e+00]\n",
      "  Objective range  [2e+00, 3e+00]\n",
      "  Bounds range     [0e+00, 0e+00]\n",
      "  RHS range        [2e+00, 4e+00]\n",
      "Found heuristic solution: objective 8.0000000\n",
      "Presolve time: 0.09s\n",
      "Presolved: 2 rows, 2 columns, 4 nonzeros\n",
      "Variable types: 0 continuous, 2 integer (0 binary)\n",
      "\n",
      "Root relaxation: objective 7.000000e+00, 2 iterations, 0.00 seconds\n",
      "\n",
      "    Nodes    |    Current Node    |     Objective Bounds      |     Work\n",
      " Expl Unexpl |  Obj  Depth IntInf | Incumbent    BestBd   Gap | It/Node Time\n",
      "\n",
      "*    0     0               0       7.0000000    7.00000  0.00%     -    0s\n",
      "\n",
      "Explored 0 nodes (2 simplex iterations) in 0.28 seconds\n",
      "Thread count was 4 (of 4 available processors)\n",
      "\n",
      "Solution count 2: 7 8 \n",
      "\n",
      "Optimal solution found (tolerance 1.00e-04)\n",
      "Best objective 7.000000000000e+00, best bound 7.000000000000e+00, gap 0.0000%\n",
      "x 1\n",
      "y 2\n",
      "Obj: 7\n",
      "eps 2.39216978169\n"
     ]
    }
   ],
   "source": [
    "from gurobipy import *\n",
    "import random as ra\n",
    "try:\n",
    "\n",
    "    # Create a new model\n",
    "    m = Model(\"stochastic\")\n",
    "    eps = ra.uniform(2,4)\n",
    "    x = m.addVar(lb=0, vtype=GRB.INTEGER, name=\"x\")\n",
    "    y = m.addVar(lb=0, vtype=GRB.INTEGER, name=\"y\")\n",
    "    m.setObjective(3*x + 2*y , GRB.MINIMIZE)\n",
    "    m.addConstr(2*x +  y  >= 4, )\n",
    "    m.addConstr(x + y >= eps, \"c1\")\n",
    "    m.optimize()\n",
    "\n",
    "    for v in m.getVars():\n",
    "        print('%s %g' % (v.varName, v.x))\n",
    "\n",
    "    print('Obj: %g' % m.objVal)\n",
    "    print(\"eps \"+str(eps))\n",
    "    \n",
    "except GurobiError as e:\n",
    "    print('Error code ' + str(e.errno) + \": \" + str(e))\n",
    "\n",
    "except AttributeError:\n",
    "    print('Encountered an attribute error')"
   ]
  },
  {
   "cell_type": "markdown",
   "metadata": {},
   "source": [
    "## Traveling Salesman Problem \n"
   ]
  },
  {
   "cell_type": "markdown",
   "metadata": {},
   "source": [
    "### Traveling Salesman Problem Example\n",
    "\n",
    "The daily production schedule at the Rainbow Company includes batches of white, yellow, red, and black paints. Because Rainbow uses the same facilities for all four types of paint, proper cleaning between batches is necessary. The table below summarizes the clean-up time in minutes. Because each color is produced in a single batch, diagonal entries in the table are assigned infinite setup time. The objective is to determine the optimal sequencing for the daily production of the four colors that will minimize the associated total clean-up time. "
   ]
  },
  {
   "cell_type": "code",
   "execution_count": 10,
   "metadata": {
    "collapsed": false
   },
   "outputs": [
    {
     "name": "stdout",
     "output_type": "stream",
     "text": [
      "Optimize a model with 23 rows, 20 columns and 59 nonzeros\n",
      "Variable types: 4 continuous, 16 integer (16 binary)\n",
      "Coefficient statistics:\n",
      "  Matrix range     [1e+00, 3e+00]\n",
      "  Objective range  [1e+01, 5e+01]\n",
      "  Bounds range     [1e+00, 1e+00]\n",
      "  RHS range        [1e+00, 3e+00]\n",
      "Found heuristic solution: objective 127.0000000\n",
      "Presolve removed 9 rows and 4 columns\n",
      "Presolve time: 0.00s\n",
      "Presolved: 14 rows, 16 columns, 50 nonzeros\n",
      "Variable types: 3 continuous, 13 integer (13 binary)\n",
      "\n",
      "Root relaxation: objective 8.300000e+01, 12 iterations, 0.00 seconds\n",
      "\n",
      "    Nodes    |    Current Node    |     Objective Bounds      |     Work\n",
      " Expl Unexpl |  Obj  Depth IntInf | Incumbent    BestBd   Gap | It/Node Time\n",
      "\n",
      "     0     0   83.00000    0    6  127.00000   83.00000  34.6%     -    0s\n",
      "H    0     0                      98.0000000   83.00000  15.3%     -    0s\n",
      "     0     0 infeasible    0        98.00000   98.00000  0.00%     -    0s\n",
      "\n",
      "Cutting planes:\n",
      "  Gomory: 1\n",
      "  Implied bound: 3\n",
      "  Mod-K: 2\n",
      "\n",
      "Explored 1 nodes (21 simplex iterations) in 0.17 seconds\n",
      "Thread count was 4 (of 4 available processors)\n",
      "\n",
      "Solution count 2: 98 127 \n",
      "\n",
      "Optimal solution found (tolerance 1.00e-04)\n",
      "Best objective 9.800000000000e+01, best bound 9.800000000000e+01, gap 0.0000%\n",
      "X[0,0] 0\n",
      "X[0,1] 1\n",
      "X[0,2] 0\n",
      "X[0,3] 0\n",
      "X[1,0] 0\n",
      "X[1,1] 0\n",
      "X[1,2] 0\n",
      "X[1,3] 1\n",
      "X[2,0] 1\n",
      "X[2,1] 0\n",
      "X[2,2] 0\n",
      "X[2,3] 0\n",
      "X[3,0] 0\n",
      "X[3,1] 0\n",
      "X[3,2] 1\n",
      "X[3,3] 0\n",
      "u[0] 0\n",
      "u[1] 1\n",
      "u[2] 3\n",
      "u[3] 2\n",
      "Obj: 98\n"
     ]
    }
   ],
   "source": [
    "import math\n",
    "from gurobipy import *\n",
    "\n",
    "try:\n",
    "\n",
    "    # Create a new model\n",
    "    m = Model(\"tsp\")\n",
    "    node =4\n",
    "    d=[[0,10,17,18],[20,0,19,18],[50,44,0,25],[45,40,20,0]]\n",
    "    u=[[0 for j in range(node)] for i in range(node)]\n",
    "    X=[[0 for j in range(node)] for i in range(node)]\n",
    "              \n",
    "    # Create variables\n",
    "    #define Xij\n",
    "    for i in range(node):\n",
    "        for j in range(node):\n",
    "                X[i][j] = m.addVar(vtype=GRB.BINARY, name=\"X[\"+str(i)+\",\"+str(j)+\"]\")\n",
    "    #define ui\n",
    "    for i in range(node):\n",
    "        u[i]=m.addVar(lb=0, vtype=GRB.CONTINUOUS, name=\"u[\"+str(i)+\"]\")\n",
    "    m.update()\n",
    "\n",
    "    # Set objective\n",
    "    m.setObjective(quicksum(quicksum(d[i][j]*X[i][j]for j in range(node))for i in range(node)), GRB.MINIMIZE )\n",
    "      \n",
    "    #Constraint 1\n",
    "    for i in range(node):\n",
    "        m.addConstr(quicksum(X[i][j]for j in range(node)) == 1)   \n",
    "    #Constraint 2\n",
    "    for j in range(node):\n",
    "        m.addConstr(quicksum(X[i][j]for i in range(node)) == 1)\n",
    "    #Constraint 3             \n",
    "    for i in range(node):\n",
    "        for j in range(node):\n",
    "            if i>=1 and j>=1 :\n",
    "                m.addConstr(u[i]-u[j]+(node-1)*X[i][j] <= node-2)\n",
    "    #Constraint 4\n",
    "    for i in range(node):\n",
    "        if i>=1:\n",
    "            m.addConstr(u[i]>=1)\n",
    "            m.addConstr(u[i]<=node-1)\n",
    "            \n",
    "    m.optimize()\n",
    "\n",
    "    for v in m.getVars():\n",
    "        print('%s %g' % (v.varName, v.x))\n",
    "   \n",
    "    print('Obj: %g' % m.objVal)\n",
    "\n",
    "except GurobiError as e:\n",
    "    print('Error code ' + str(e.errno) + \": \" + str(e))\n",
    "\n",
    "except AttributeError:\n",
    "    print('Encountered an attribute error')"
   ]
  },
  {
   "cell_type": "markdown",
   "metadata": {},
   "source": [
    "# Other example code and model \n",
    "http://www.gurobi.com/resources/examples/example-models-overview"
   ]
  },
  {
   "cell_type": "markdown",
   "metadata": {},
   "source": [
    "### General Constraint\n",
    "GRBModel.addGenConstrXxx()\n",
    "\n",
    "Each of the functions described below adds a new general constraint to a model.\n",
    "\n",
    "Mathematical programming has traditionally defined a set of fundamental constraint types: variable bound constraints, linear constraints, quadratic constraints, integrality constraints, and SOS constraints. These are typically treated directly by the underlying solver (although not always), and are fundamental to the overall algorithm.\n",
    "\n",
    "Gurobi accepts a number of additional constraint types, which we collectively refer to as general constraints. These are typically not treated directly by the solver. Rather, they are transformed by presolve into mathematically equivalent sets of constraints (and variables), chosen from among the fundamental types listed above. These general constraints are provided as a convenience to users. If such constraints appear in your model, but if you prefer to reformulate them yourself using fundamental constraint types instead, you can certainly do so. However, note that Gurobi can sometimes exploit information contained in the other constraints in the model to build a more efficient formulation than what you might create.\n",
    "\n",
    "The additional constraint types that fall under this general constraint umbrella are:\n",
    "1. MAX (addGenConstrMax): set a decision variable equal to the maximum value from among a set of decision variables\n",
    "2. MIN (addGenConstrMin): set a decision variable equal to the minimum value from among a set of decision variables  \n",
    "3. ABS (addGenConstrAbs): set a decision variable equal to the absolute value of some other decision variable\n",
    "4. AND (addGenConstrAnd): set a binary variable equal to one if and only if all of a set of binary decision variables are equal to one\n",
    "5. OR (addGenConstrOr): set a binary variable equal to one if and only if at least one variable out of a set of binary decision variables is equal to one\n",
    "6. INDICATOR (addGenConstrIndicator): whenever a given binary variable takes a certain value, then the given linear constraint must be satisfied\n",
    "```python\n",
    "model.addGenConstrIndicator(x7, True, x1 + 2*x2 + x4 == 1.0)\n",
    "```"
   ]
  },
  {
   "cell_type": "markdown",
   "metadata": {},
   "source": [
    "#### General Constraint Example"
   ]
  },
  {
   "cell_type": "markdown",
   "metadata": {},
   "source": [
    "### Soal"
   ]
  },
  {
   "cell_type": "code",
   "execution_count": null,
   "metadata": {
    "collapsed": true
   },
   "outputs": [],
   "source": []
  }
 ],
 "metadata": {
  "kernelspec": {
   "display_name": "Python 2",
   "language": "python",
   "name": "python2"
  },
  "language_info": {
   "codemirror_mode": {
    "name": "ipython",
    "version": 2
   },
   "file_extension": ".py",
   "mimetype": "text/x-python",
   "name": "python",
   "nbconvert_exporter": "python",
   "pygments_lexer": "ipython2",
   "version": "2.7.13"
  }
 },
 "nbformat": 4,
 "nbformat_minor": 2
}
